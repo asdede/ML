{
 "cells": [
  {
   "cell_type": "markdown",
   "metadata": {},
   "source": [
    "# Basic neural network\n",
    "\n",
    "Going to try and do most simple neural network with python that i can, and then im going to use this ase base for future neural networks, when i learn this.\n",
    "\n",
    "I have found three websites to use as my aid\n",
    "\n",
    "https://medium.com/technology-invention-and-more/how-to-build-a-simple-neural-network-in-9-lines-of-python-code-cc8f23647ca1\n",
    "\n",
    "http://iamtrask.github.io/2015/07/12/basic-python-network/\n",
    "\n",
    "https://towardsdatascience.com/first-neural-network-for-beginners-explained-with-code-4cfd37e06eaf"
   ]
  },
  {
   "cell_type": "code",
   "execution_count": 1,
   "metadata": {},
   "outputs": [],
   "source": [
    "# Imports\n",
    "import numpy as np\n",
    "import random, os\n",
    "import pandas as pd"
   ]
  },
  {
   "cell_type": "code",
   "execution_count": null,
   "metadata": {},
   "outputs": [],
   "source": [
    "# Sites example 'Perceptron'\n",
    "# sligthly modified\n",
    "lr = 1\n",
    "bias = 1\n",
    "inputs = [1,1,0,1]\n",
    "weights = [random.random() for i in range(len(inputs) +1)]\n",
    "def perceptron(inputs:list, target):\n",
    "    outputP = 0\n",
    "    for input_in\n",
    "    "
   ]
  }
 ],
 "metadata": {
  "kernelspec": {
   "display_name": "Python 3",
   "language": "python",
   "name": "python3"
  },
  "language_info": {
   "codemirror_mode": {
    "name": "ipython",
    "version": 3
   },
   "file_extension": ".py",
   "mimetype": "text/x-python",
   "name": "python",
   "nbconvert_exporter": "python",
   "pygments_lexer": "ipython3",
   "version": "3.6.7"
  }
 },
 "nbformat": 4,
 "nbformat_minor": 2
}
